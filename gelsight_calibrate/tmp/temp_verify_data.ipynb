{
 "cells": [
  {
   "cell_type": "markdown",
   "metadata": {},
   "source": [
    "# Verify collected data for interactive labeling in nanogui"
   ]
  },
  {
   "cell_type": "code",
   "execution_count": 4,
   "metadata": {},
   "outputs": [],
   "source": [
    "import cv2\n",
    "import numpy as np\n",
    "import os, sys\n",
    "import matplotlib.pyplot as plt"
   ]
  },
  {
   "cell_type": "code",
   "execution_count": 5,
   "metadata": {},
   "outputs": [
    {
     "name": "stdout",
     "output_type": "stream",
     "text": [
      "(240, 320, 3)\n"
     ]
    }
   ],
   "source": [
    "# Load the sample image\n",
    "# go back to parent directory\n",
    "parent_dir = os.path.abspath(os.path.join(os.getcwd(), os.pardir))\n",
    "img_path = os.path.join(parent_dir, 'data', 'frame.png')\n",
    "img = cv2.imread(img_path)\n",
    "print(img.shape)"
   ]
  },
  {
   "cell_type": "code",
   "execution_count": 6,
   "metadata": {},
   "outputs": [],
   "source": [
    "# Read a csv file and change its delimiter from ' ' to ','\n",
    "csv_path = os.path.join(parent_dir, 'data', 'ball_indenters', 'catalog.csv')\n",
    "csv_file = open(csv_path, 'r')\n",
    "csv_data = csv_file.read()\n",
    "csv_file.close()\n",
    "csv_data = csv_data.replace(' ', ',')\n",
    "csv_file = open(csv_path, 'w')\n",
    "csv_file.write(csv_data)\n",
    "csv_file.close()\n"
   ]
  },
  {
   "cell_type": "code",
   "execution_count": 8,
   "metadata": {},
   "outputs": [
    {
     "name": "stdout",
     "output_type": "stream",
     "text": [
      "['center', 'radius']\n",
      "center: [290. 226.], radius: 27\n"
     ]
    }
   ],
   "source": [
    "# Load npz file\n",
    "\n",
    "npz_path = os.path.join(parent_dir, 'data', 'ball_indenters', '5.000mm', '0', 'label.npz')\n",
    "npz_data = np.load(npz_path)\n",
    "print(npz_data.files)\n",
    "print(f\"center: {npz_data['center']}, radius: {npz_data['radius']}\")"
   ]
  },
  {
   "cell_type": "code",
   "execution_count": null,
   "metadata": {},
   "outputs": [],
   "source": []
  }
 ],
 "metadata": {
  "kernelspec": {
   "display_name": "3DTexture",
   "language": "python",
   "name": "python3"
  },
  "language_info": {
   "codemirror_mode": {
    "name": "ipython",
    "version": 3
   },
   "file_extension": ".py",
   "mimetype": "text/x-python",
   "name": "python",
   "nbconvert_exporter": "python",
   "pygments_lexer": "ipython3",
   "version": "3.8.18"
  }
 },
 "nbformat": 4,
 "nbformat_minor": 2
}
